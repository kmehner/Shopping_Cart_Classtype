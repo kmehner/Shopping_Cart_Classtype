{
 "cells": [
  {
   "cell_type": "markdown",
   "metadata": {},
   "source": [
    "# Object-Oriented-Programming (OOP)"
   ]
  },
  {
   "cell_type": "markdown",
   "metadata": {},
   "source": [
    "## Tasks Today:\n",
    "\n",
    "   \n",
    "\n",
    "1) <b>Creating a Class (Initializing/Declaring)</b> <br>\n",
    "2) <b>Using a Class (Instantiating)</b> <br>\n",
    " &nbsp;&nbsp;&nbsp;&nbsp; a) Creating One Instance <br>\n",
    " &nbsp;&nbsp;&nbsp;&nbsp; b) Creating Multiple Instances <br>\n",
    " &nbsp;&nbsp;&nbsp;&nbsp; c) In-Class Exercise #1 - Create a Class 'Car' and instantiate three different makes of cars <br>\n",
    "3) <b>The \\__init\\__() Method</b> <br>\n",
    " &nbsp;&nbsp;&nbsp;&nbsp; a) The 'self' Attribute <br>\n",
    "4) <b>Class Attributes</b> <br>\n",
    " &nbsp;&nbsp;&nbsp;&nbsp; a) Initializing Attributes <br>\n",
    " &nbsp;&nbsp;&nbsp;&nbsp; b) Setting an Attribute Outside of the \\__init\\__() Method <br>\n",
    " &nbsp;&nbsp;&nbsp;&nbsp; c) Setting Defaults for Attributes <br>\n",
    " &nbsp;&nbsp;&nbsp;&nbsp; d) Accessing Class Attributes <br>\n",
    " &nbsp;&nbsp;&nbsp;&nbsp; e) Changing Class Attributes <br>\n",
    " &nbsp;&nbsp;&nbsp;&nbsp; f) In-Class Exercise #2 - Update your 'Car' class with \\__init\\__() method and class attributes<br>\n",
    "5) <b>Class Methods</b> <br>\n",
    " &nbsp;&nbsp;&nbsp;&nbsp; a) Creating <br>\n",
    " &nbsp;&nbsp;&nbsp;&nbsp; b) Calling <br>\n",
    " &nbsp;&nbsp;&nbsp;&nbsp; c) Modifying an Attribute's Value Through a Method <br>\n",
    " &nbsp;&nbsp;&nbsp;&nbsp; d) Incrementing an Attribute's Value Through a Method <br>\n",
    " &nbsp;&nbsp;&nbsp;&nbsp; e) In-Class Exercise #3 - Update Car class with new methods <br>\n",
    "6) <b>Classes as Attributes</b> <br>\n",
    "8) <b>Exercises</b> <br>\n",
    " &nbsp;&nbsp;&nbsp;&nbsp; a) Exercise #1 - Turn the shopping cart program from yesterday into an object-oriented program <br>\n",
    "  &nbsp;&nbsp;&nbsp;&nbsp; a) Exercise #2 - Create an Animal class with Eat, Sleep, and Play methods <br>"
   ]
  },
  {
   "cell_type": "markdown",
   "metadata": {},
   "source": [
    "#### Object-Oriented Programming"
   ]
  },
  {
   "cell_type": "markdown",
   "metadata": {},
   "source": [
    "Object-Oriented Programming (OOP) allows us to create programs so that that properties and behaviors are bundled into **objects**. OOP models real-world entities as software objects that have some data associated with them and can perform certain functions."
   ]
  },
  {
   "cell_type": "markdown",
   "metadata": {},
   "source": [
    "## Creating a Class (Initializing/Declaring)\n",
    "<p>When creating a class, function, or even a variable you are initializing that object. Initializing and Declaring occur at the same time in Python, whereas in lower level languages you have to declare an object before initializing it. This is the first step in the process of using a class.</p>"
   ]
  },
  {
   "cell_type": "code",
   "execution_count": null,
   "metadata": {},
   "outputs": [],
   "source": [
    "# Syntax - class ClassName(): OR class ClassName: * always captialize our class names PEP8 Guideline\n",
    "\n",
    "# Only need parantheses if you are inheriting (ie. cars from list vehicle)\n",
    "\n",
    "class Student():\n",
    "    pass\n",
    "\n",
    "help(Student)"
   ]
  },
  {
   "cell_type": "code",
   "execution_count": null,
   "metadata": {},
   "outputs": [],
   "source": [
    "print(Student.__dict__)"
   ]
  },
  {
   "cell_type": "markdown",
   "metadata": {},
   "source": [
    "## Using a Class (Instantiating)\n",
    "<p>The process of creating a class is called <i>Instantiating</i>. Each time you create a variable of that type of class, it is referred to as an <i>Instance</i> of that class. This is the second step in the process of using a class.</p>"
   ]
  },
  {
   "cell_type": "code",
   "execution_count": 1,
   "metadata": {},
   "outputs": [
    {
     "name": "stdout",
     "output_type": "stream",
     "text": [
      "140395688782400\n",
      "140395688782144\n"
     ]
    }
   ],
   "source": [
    "a_list = [1,2,3,4]\n",
    "b_list = [6,7,8,9]\n",
    "\n",
    "print(id(a_list))\n",
    "print(id(b_list))"
   ]
  },
  {
   "cell_type": "code",
   "execution_count": 2,
   "metadata": {},
   "outputs": [
    {
     "name": "stdout",
     "output_type": "stream",
     "text": [
      "[1, 2, 3, 4]\n",
      "[6, 7, 8, 9]\n",
      "[1, 2, 3, 4]\n",
      "[6, 7, 8, 9, 10]\n"
     ]
    }
   ],
   "source": [
    "print(a_list)\n",
    "print(b_list)\n",
    "\n",
    "b_list.append(10)   # only appending to this instance of our list \n",
    "print(a_list)\n",
    "print(b_list)"
   ]
  },
  {
   "cell_type": "markdown",
   "metadata": {},
   "source": [
    "##### Creating One Instance"
   ]
  },
  {
   "cell_type": "code",
   "execution_count": 3,
   "metadata": {},
   "outputs": [
    {
     "name": "stdout",
     "output_type": "stream",
     "text": [
      "<__main__.Student object at 0x7fb06b24e130>\n"
     ]
    },
    {
     "data": {
      "text/plain": [
       "<__main__.Student at 0x7fb06b24e130>"
      ]
     },
     "execution_count": 3,
     "metadata": {},
     "output_type": "execute_result"
    }
   ],
   "source": [
    "# variable_name = ClassName()\n",
    "\n",
    "class Student():\n",
    "    pass\n",
    "\n",
    "student_1 = Student()     # one instance of student object \n",
    "\n",
    "print(student_1)\n",
    "student_1"
   ]
  },
  {
   "cell_type": "markdown",
   "metadata": {},
   "source": [
    "##### Creating Multiple Instances"
   ]
  },
  {
   "cell_type": "code",
   "execution_count": 4,
   "metadata": {},
   "outputs": [
    {
     "name": "stdout",
     "output_type": "stream",
     "text": [
      "<__main__.Student object at 0x7fb06b278310>\n",
      "<__main__.Student object at 0x7fb06b278490>\n"
     ]
    }
   ],
   "source": [
    "student_2 = Student()\n",
    "print(student_2)\n",
    "\n",
    "student_3 = Student()\n",
    "print(student_3)"
   ]
  },
  {
   "cell_type": "markdown",
   "metadata": {},
   "source": [
    "##### Adding attributes to instances"
   ]
  },
  {
   "cell_type": "code",
   "execution_count": 5,
   "metadata": {},
   "outputs": [
    {
     "name": "stdout",
     "output_type": "stream",
     "text": [
      "Student 1: {'first_name': 'Jim', 'last_name': 'Smith'}\n",
      "Student 2: {'first_name': 'Laura', 'last_name': 'Green'}\n"
     ]
    }
   ],
   "source": [
    "# Syntax: instance_var.attribute_name = value \n",
    "\n",
    "student_1.first_name = \"Jim\"\n",
    "student_1.last_name = \"Smith\"\n",
    "\n",
    "student_2.first_name = 'Laura'\n",
    "student_2.last_name = 'Green'\n",
    "\n",
    "print('Student 1:', student_1.__dict__)\n",
    "print('Student 2:', student_2.__dict__)"
   ]
  },
  {
   "cell_type": "code",
   "execution_count": 6,
   "metadata": {
    "scrolled": true
   },
   "outputs": [
    {
     "name": "stdout",
     "output_type": "stream",
     "text": [
      "{'first_name': 'Charlie'}\n"
     ]
    }
   ],
   "source": [
    "student_3.first_name = 'Charlie'\n",
    "\n",
    "print(student_3.__dict__)"
   ]
  },
  {
   "cell_type": "code",
   "execution_count": 7,
   "metadata": {},
   "outputs": [
    {
     "name": "stdout",
     "output_type": "stream",
     "text": [
      "Jim\n",
      "Laura\n",
      "Charlie\n"
     ]
    }
   ],
   "source": [
    "print(student_1.first_name)\n",
    "print(student_2.first_name)\n",
    "print(student_3.first_name)"
   ]
  },
  {
   "cell_type": "code",
   "execution_count": 8,
   "metadata": {},
   "outputs": [
    {
     "data": {
      "text/plain": [
       "True"
      ]
     },
     "execution_count": 8,
     "metadata": {},
     "output_type": "execute_result"
    }
   ],
   "source": [
    "isinstance(student_2, Student)"
   ]
  },
  {
   "cell_type": "markdown",
   "metadata": {},
   "source": [
    "##### In-Class Exercise #1 - Create a Class 'Car' and Instantiate three different car instances. Add a different make for each car."
   ]
  },
  {
   "cell_type": "code",
   "execution_count": 12,
   "metadata": {},
   "outputs": [
    {
     "name": "stdout",
     "output_type": "stream",
     "text": [
      "{'__module__': '__main__', '__dict__': <attribute '__dict__' of 'Car' objects>, '__weakref__': <attribute '__weakref__' of 'Car' objects>, '__doc__': None}\n",
      "Car 1: Honda\n",
      "Car 2: {'make': 'Toyota', 'model': 'Rav4'}\n",
      "Car 3: Jeep\n"
     ]
    }
   ],
   "source": [
    "class Car:\n",
    "    pass\n",
    "\n",
    "# Instantiate three different car instances \n",
    "car_1 = Car()\n",
    "car_2 = Car()\n",
    "car_3 = Car()\n",
    "\n",
    "# Add instance attributes for the car make \n",
    "car_1.make = 'Honda'\n",
    "car_1.model = \"CRV\"\n",
    "\n",
    "car_2.make = 'Toyota'\n",
    "car_2.model = \"Rav4\"\n",
    "\n",
    "car_3.make = 'Jeep'\n",
    "\n",
    "\n",
    "print(Car.__dict__)\n",
    "print(\"Car 1:\", car_1.make)\n",
    "print(\"Car 2:\", car_2.__dict__)\n",
    "print(\"Car 3:\", car_3.make)\n",
    "\n"
   ]
  },
  {
   "cell_type": "code",
   "execution_count": 14,
   "metadata": {},
   "outputs": [],
   "source": [
    "car_3.color, car_3.model = \"Blue\", \"Wrangler\""
   ]
  },
  {
   "cell_type": "code",
   "execution_count": 15,
   "metadata": {},
   "outputs": [
    {
     "name": "stdout",
     "output_type": "stream",
     "text": [
      "{'make': 'Jeep', 'color': 'Blue', 'model': 'Wrangler'}\n"
     ]
    }
   ],
   "source": [
    "print(car_3.__dict__)"
   ]
  },
  {
   "cell_type": "markdown",
   "metadata": {},
   "source": [
    "## The \\__init\\__() Method <br>\n",
    "<p>This method is used in almost every created class, and called only once upon the creation of the class instance. This method will initialize all variables needed for the object.</p>"
   ]
  },
  {
   "cell_type": "markdown",
   "metadata": {},
   "source": [
    "##### The 'self' Attribute <br>\n",
    "<p>This attribute is required to keep track of specific instance's attributes. Without the self attribute, the program would not know how to reference or keep track of an instance's attributes.</p>"
   ]
  },
  {
   "cell_type": "code",
   "execution_count": 16,
   "metadata": {},
   "outputs": [
    {
     "name": "stdout",
     "output_type": "stream",
     "text": [
      "{'first_name': 'Joel', 'last_name': 'Carter', 'teacher': 'Brian Stanton'}\n",
      "{'first_name': 'Ripal', 'last_name': 'Patel', 'teacher': 'Mac Smith'}\n"
     ]
    }
   ],
   "source": [
    "def create_student(first, last, teacher):\n",
    "    student_instance = Student()\n",
    "    student_instance.first_name = first\n",
    "    student_instance.last_name = last\n",
    "    student_instance.teacher = teacher\n",
    "    \n",
    "    return student_instance\n",
    "\n",
    "new_student = create_student('Joel', 'Carter', 'Brian Stanton')\n",
    "newer_student = create_student('Ripal', 'Patel', 'Mac Smith')\n",
    "\n",
    "print(new_student.__dict__)\n",
    "print(newer_student.__dict__)"
   ]
  },
  {
   "cell_type": "code",
   "execution_count": 17,
   "metadata": {},
   "outputs": [
    {
     "name": "stdout",
     "output_type": "stream",
     "text": [
      "{'first_name': 'Trent', 'last_name': 'Frazier', 'teacher': 'Ms. Honey', 'gpa': 4.0}\n"
     ]
    }
   ],
   "source": [
    "class Students:\n",
    "    def __init__(self, first, last, teacher = \"Ms. Honey\"):\n",
    "        self.first_name = first\n",
    "        self.last_name = last\n",
    "        self.teacher = teacher\n",
    "        self.gpa = 4.0\n",
    "        \n",
    "student_a = Students('Trent', 'Frazier')\n",
    "print(student_a.__dict__)"
   ]
  },
  {
   "cell_type": "code",
   "execution_count": 18,
   "metadata": {},
   "outputs": [],
   "source": [
    "student_b = Students('Kofi', 'Cockburn', 'Mr.Clock')"
   ]
  },
  {
   "cell_type": "code",
   "execution_count": 19,
   "metadata": {},
   "outputs": [
    {
     "name": "stdout",
     "output_type": "stream",
     "text": [
      "{'first_name': 'Trent', 'last_name': 'Frazier', 'teacher': 'Ms. Honey', 'gpa': 4.0, 'fav_subject': 'Math'}\n"
     ]
    }
   ],
   "source": [
    "student_a.fav_subject = \"Math\"\n",
    "\n",
    "print(student_a.__dict__)"
   ]
  },
  {
   "cell_type": "markdown",
   "metadata": {},
   "source": [
    "## Class Attributes <br>\n",
    "<p>While variables are inside of a class, they are referred to as attributes and not variables. When someone says 'attribute' you know they're speaking about a class. Attributes can be initialized through the init method, or outside of it.</p>"
   ]
  },
  {
   "cell_type": "markdown",
   "metadata": {},
   "source": [
    "##### Initializing Attributes"
   ]
  },
  {
   "cell_type": "code",
   "execution_count": 20,
   "metadata": {},
   "outputs": [],
   "source": [
    "class Truck:\n",
    "    \n",
    "    def __init__(self, color, make):\n",
    "        self.color = color    # instance attributes\n",
    "        self.make = make      # instance attributes \n",
    "        \n",
    "truck1 = Truck('blue', 'ford')\n",
    "truck2 = Truck('red', 'chevy')\n",
    "truck3 = Truck('green', 'GMC')"
   ]
  },
  {
   "cell_type": "code",
   "execution_count": 21,
   "metadata": {},
   "outputs": [
    {
     "name": "stdout",
     "output_type": "stream",
     "text": [
      "{'color': 'blue', 'make': 'ford'}\n",
      "{'color': 'red', 'make': 'chevy'}\n",
      "{'color': 'green', 'make': 'GMC'}\n"
     ]
    }
   ],
   "source": [
    "print(truck1.__dict__)\n",
    "print(truck2.__dict__)\n",
    "print(truck3.__dict__)"
   ]
  },
  {
   "cell_type": "markdown",
   "metadata": {},
   "source": [
    "##### Accessing Class Attributes"
   ]
  },
  {
   "cell_type": "code",
   "execution_count": null,
   "metadata": {
    "scrolled": true
   },
   "outputs": [],
   "source": [
    "# See Above"
   ]
  },
  {
   "cell_type": "markdown",
   "metadata": {},
   "source": [
    "##### Setting Defaults for Attributes"
   ]
  },
  {
   "cell_type": "code",
   "execution_count": 22,
   "metadata": {},
   "outputs": [],
   "source": [
    "class Bike():\n",
    "    \n",
    "    def __init__(self, color, brand='Schwinn'):\n",
    "        self.color = color\n",
    "        self.brand = brand\n",
    "        self.wheels = 2\n",
    "        \n",
    "        \n",
    "my_bike = Bike('blue')\n",
    "your_bike = Bike('red', 'Giant')"
   ]
  },
  {
   "cell_type": "code",
   "execution_count": 23,
   "metadata": {},
   "outputs": [
    {
     "name": "stdout",
     "output_type": "stream",
     "text": [
      "Schwinn\n"
     ]
    }
   ],
   "source": [
    "print(my_bike.brand)"
   ]
  },
  {
   "cell_type": "code",
   "execution_count": 24,
   "metadata": {},
   "outputs": [
    {
     "name": "stdout",
     "output_type": "stream",
     "text": [
      "Giant\n"
     ]
    }
   ],
   "source": [
    "print(your_bike.brand)"
   ]
  },
  {
   "cell_type": "markdown",
   "metadata": {},
   "source": [
    "##### Changing Class Attributes <br>\n",
    "<p>Keep in mind there are global class attributes and then there are attributes only available to each class instance which won't effect other classes.</p>"
   ]
  },
  {
   "cell_type": "code",
   "execution_count": 25,
   "metadata": {},
   "outputs": [],
   "source": [
    "class Truck():\n",
    "    wheels = 4 # Class attribute\n",
    "    \n",
    "    def __init__(self, color, make):\n",
    "        self.color = color # instance attributes\n",
    "        self.make = make"
   ]
  },
  {
   "cell_type": "code",
   "execution_count": 26,
   "metadata": {},
   "outputs": [],
   "source": [
    "truck1 = Truck('black', 'Ford')\n",
    "truck2 = Truck('white', 'GM')"
   ]
  },
  {
   "cell_type": "code",
   "execution_count": 27,
   "metadata": {},
   "outputs": [
    {
     "name": "stdout",
     "output_type": "stream",
     "text": [
      "4\n",
      "4\n",
      "\n",
      "16\n",
      "4\n",
      "\n",
      "16\n",
      "24\n",
      "\n",
      "truck1: {'color': 'black', 'make': 'Ford', 'wheels': 16}\n",
      "truck2: {'color': 'white', 'make': 'GM'}\n",
      "Truck Class: {'__module__': '__main__', 'wheels': 24, '__init__': <function Truck.__init__ at 0x7fb06b259820>, '__dict__': <attribute '__dict__' of 'Truck' objects>, '__weakref__': <attribute '__weakref__' of 'Truck' objects>, '__doc__': None}\n"
     ]
    }
   ],
   "source": [
    "print(truck1.wheels)\n",
    "print(truck2.wheels)\n",
    "print()\n",
    "\n",
    "truck1.wheels = 16 # Sets an Instance Attribute on truck1\n",
    "print(truck1.wheels)\n",
    "print(truck2.wheels)\n",
    "print()\n",
    "\n",
    "Truck.wheels = 24 # Changes the Class attribute on Truck\n",
    "print(truck1.wheels)\n",
    "print(truck2.wheels)\n",
    "print()\n",
    "\n",
    "print(\"truck1:\",truck1.__dict__)\n",
    "print(\"truck2:\",truck2.__dict__)\n",
    "print(\"Truck Class:\",Truck.__dict__)"
   ]
  },
  {
   "cell_type": "markdown",
   "metadata": {},
   "source": [
    "##### In-Class Exercise 2 - Create an \\__init__ method for your Car class which takes in color and model with a default value for gas_level of 100. Your class should also have a class attribute for model. Once you have created the class, instantiate 3 different cars"
   ]
  },
  {
   "cell_type": "code",
   "execution_count": 30,
   "metadata": {
    "scrolled": true
   },
   "outputs": [
    {
     "name": "stdout",
     "output_type": "stream",
     "text": [
      "{'color': 'Red', 'model': 'Camry', 'gas_level': 100}\n",
      "{'color': 'Blue', 'model': 'Rav-4', 'gas_level': 100}\n",
      "{'color': 'Green', 'model': 'Highlander', 'gas_level': 75}\n"
     ]
    }
   ],
   "source": [
    "class Car:\n",
    "    make = \"Toyota\"\n",
    "    \n",
    "    def __init__(self, color, model, gas_level = 100):\n",
    "        self.color = color\n",
    "        self.model = model\n",
    "        self.gas_level = gas_level\n",
    "\n",
    "\n",
    "car1 = Car('Red', 'Camry')\n",
    "car2 = Car('Blue', 'Rav-4')\n",
    "car3 = Car('Green', 'Highlander', 75)\n",
    "\n",
    "print(car1.__dict__)\n",
    "print(car2.__dict__)\n",
    "print(car3.__dict__)\n",
    "\n"
   ]
  },
  {
   "cell_type": "code",
   "execution_count": 32,
   "metadata": {},
   "outputs": [
    {
     "name": "stdout",
     "output_type": "stream",
     "text": [
      "Red Toyota Camry\n",
      "Blue Toyota Rav-4\n",
      "Green Toyota Highlander\n"
     ]
    }
   ],
   "source": [
    "my_cars = [car1, car2, car3]\n",
    "\n",
    "for car in my_cars:\n",
    "    print(car.color, car.make, car.model)"
   ]
  },
  {
   "cell_type": "markdown",
   "metadata": {},
   "source": [
    "### getattr, setattr, delattr\n",
    "\n",
    "Built in functions for attributes\n",
    "\n",
    "Get attribute - getattr(ob, 'attribute_name')\n",
    "\n",
    "Set attribute - setattr(obj, 'attribute_name', value)\n",
    "\n",
    "Delete Attribute - delattr(obj, 'attribute_name) "
   ]
  },
  {
   "cell_type": "code",
   "execution_count": 34,
   "metadata": {},
   "outputs": [
    {
     "name": "stdout",
     "output_type": "stream",
     "text": [
      "What attribute would you like to check?make\n",
      "make\n"
     ]
    },
    {
     "data": {
      "text/plain": [
       "'Toyota'"
      ]
     },
     "execution_count": 34,
     "metadata": {},
     "output_type": "execute_result"
    }
   ],
   "source": [
    "# getattr \n",
    "\n",
    "prop = input(\"What attribute would you like to check?\")\n",
    "print(prop)\n",
    "getattr(car2, prop)"
   ]
  },
  {
   "cell_type": "code",
   "execution_count": 37,
   "metadata": {},
   "outputs": [
    {
     "name": "stdout",
     "output_type": "stream",
     "text": [
      "{'color': 'Green', 'model': 'Highlander', 'gas_level': 75, 'owner': 'Tim'}\n"
     ]
    }
   ],
   "source": [
    "# setattr\n",
    "\n",
    "setattr(car3, 'owner', 'Tim')\n",
    "print(car3.__dict__)"
   ]
  },
  {
   "cell_type": "code",
   "execution_count": 38,
   "metadata": {},
   "outputs": [
    {
     "name": "stdout",
     "output_type": "stream",
     "text": [
      "{'color': 'Green', 'model': 'Highlander', 'gas_level': 75, 'owner': 'Tim'}\n",
      "{'color': 'Green', 'model': 'Highlander', 'gas_level': 75}\n"
     ]
    }
   ],
   "source": [
    "# delattr\n",
    "\n",
    "print(car3.__dict__)\n",
    "delattr(car3, 'owner')\n",
    "print(car3.__dict__)"
   ]
  },
  {
   "cell_type": "code",
   "execution_count": 39,
   "metadata": {},
   "outputs": [],
   "source": [
    "class Test:\n",
    "    def __init__(self, **kwargs):\n",
    "        for key, value in kwargs.items():\n",
    "            setattr(self, key, value)\n",
    "            \n",
    "my_test = Test(first = 'Tim', last = 'Anderson', hometown = 'Chicago', age = 30)"
   ]
  },
  {
   "cell_type": "code",
   "execution_count": 40,
   "metadata": {},
   "outputs": [
    {
     "data": {
      "text/plain": [
       "30"
      ]
     },
     "execution_count": 40,
     "metadata": {},
     "output_type": "execute_result"
    }
   ],
   "source": [
    "my_test.age"
   ]
  },
  {
   "cell_type": "markdown",
   "metadata": {},
   "source": [
    "## Class Methods <br>\n",
    "<p>While inside of a class, functions are referred to as 'methods'. If you hear someone mention methods, they're speaking about classes. Methods are essentially functions, but only callable on the instances of a class.</p>"
   ]
  },
  {
   "cell_type": "code",
   "execution_count": 41,
   "metadata": {},
   "outputs": [
    {
     "name": "stdout",
     "output_type": "stream",
     "text": [
      "[1, 2, 'Hello']\n"
     ]
    }
   ],
   "source": [
    "my_list = [1, 2]\n",
    "list.append(my_list, 'Hello')\n",
    "print(my_list)"
   ]
  },
  {
   "cell_type": "code",
   "execution_count": 42,
   "metadata": {},
   "outputs": [],
   "source": [
    "my_list .append(\"Hello\")"
   ]
  },
  {
   "cell_type": "code",
   "execution_count": 43,
   "metadata": {},
   "outputs": [
    {
     "name": "stdout",
     "output_type": "stream",
     "text": [
      "[1, 2, 'Hello', 'Hello']\n"
     ]
    }
   ],
   "source": [
    "print(my_list)"
   ]
  },
  {
   "cell_type": "markdown",
   "metadata": {},
   "source": [
    "##### Creating"
   ]
  },
  {
   "cell_type": "code",
   "execution_count": 53,
   "metadata": {},
   "outputs": [],
   "source": [
    "class Employee:\n",
    "    raise_amount = 1.05\n",
    "    \n",
    "    def __init__ (self, first, last, salary):\n",
    "        self.first = first.title()\n",
    "        self.last = last.title()\n",
    "        self.salary = salary\n",
    "        self.email = first.lower() + '.' + last.lower() + '@company.org'\n",
    "        \n",
    "    def employee_full_name(self):\n",
    "        return f\"{self.first} {self.last}\"\n",
    "    \n",
    "    def change_last_name(self, new_last_name):\n",
    "        self.last = new_last_name.title()\n",
    "        self.email = self.first.lower() + \".\" + self.last.lower() + '@company.org'\n",
    "        \n",
    "    def apply_raise(self):\n",
    "        self.salary = int(self.salary * Employee.raise_amount)\n",
    "        \n",
    "        \n",
    "        \n",
    "emp_1 = Employee ('Zach', 'Lavine', 1000000)\n",
    "emp_2 = Employee ('Lonzo', 'Ball', 1000000)"
   ]
  },
  {
   "cell_type": "code",
   "execution_count": 45,
   "metadata": {},
   "outputs": [
    {
     "name": "stdout",
     "output_type": "stream",
     "text": [
      "lonzo.ball@company.org\n"
     ]
    }
   ],
   "source": [
    "print(emp_2.email)"
   ]
  },
  {
   "cell_type": "markdown",
   "metadata": {},
   "source": [
    "##### Calling"
   ]
  },
  {
   "cell_type": "code",
   "execution_count": 47,
   "metadata": {},
   "outputs": [
    {
     "data": {
      "text/plain": [
       "'Zach Lavine'"
      ]
     },
     "execution_count": 47,
     "metadata": {},
     "output_type": "execute_result"
    }
   ],
   "source": [
    "emp_1.employee_full_name()"
   ]
  },
  {
   "cell_type": "code",
   "execution_count": 48,
   "metadata": {},
   "outputs": [
    {
     "data": {
      "text/plain": [
       "'Lonzo Ball'"
      ]
     },
     "execution_count": 48,
     "metadata": {},
     "output_type": "execute_result"
    }
   ],
   "source": [
    "emp_2.employee_full_name()"
   ]
  },
  {
   "cell_type": "code",
   "execution_count": 46,
   "metadata": {},
   "outputs": [
    {
     "data": {
      "text/plain": [
       "'Lonzo Ball'"
      ]
     },
     "execution_count": 46,
     "metadata": {},
     "output_type": "execute_result"
    }
   ],
   "source": [
    "Employee.employee_full_name(emp_2)"
   ]
  },
  {
   "cell_type": "markdown",
   "metadata": {},
   "source": [
    "##### Modifying an Attribute's Value Through a Method"
   ]
  },
  {
   "cell_type": "code",
   "execution_count": 49,
   "metadata": {},
   "outputs": [
    {
     "name": "stdout",
     "output_type": "stream",
     "text": [
      "Zach Lavine\n",
      "Zach Smith\n"
     ]
    }
   ],
   "source": [
    "print(emp_1.employee_full_name())\n",
    "emp_1.change_last_name('smith')\n",
    "print(emp_1.employee_full_name())"
   ]
  },
  {
   "cell_type": "code",
   "execution_count": 51,
   "metadata": {},
   "outputs": [
    {
     "name": "stdout",
     "output_type": "stream",
     "text": [
      "zach.smith@company.org\n"
     ]
    }
   ],
   "source": [
    "print(emp_1.email)"
   ]
  },
  {
   "cell_type": "markdown",
   "metadata": {},
   "source": [
    "##### Incrementing an Attribute's Value Through a Method"
   ]
  },
  {
   "cell_type": "code",
   "execution_count": 54,
   "metadata": {},
   "outputs": [
    {
     "name": "stdout",
     "output_type": "stream",
     "text": [
      "1000000\n",
      "1050000\n",
      "1102500\n"
     ]
    }
   ],
   "source": [
    "print(emp_2.salary)\n",
    "emp_2.apply_raise()\n",
    "print(emp_2.salary)\n",
    "emp_2.apply_raise()\n",
    "print(emp_2.salary)"
   ]
  },
  {
   "cell_type": "code",
   "execution_count": 55,
   "metadata": {},
   "outputs": [
    {
     "name": "stdout",
     "output_type": "stream",
     "text": [
      "1000000\n",
      "1050000\n",
      "1102500\n"
     ]
    }
   ],
   "source": [
    "emp_1.raise_amount = 1.25\n",
    "print(emp_1.salary)\n",
    "emp_1.apply_raise()\n",
    "print(emp_1.salary)\n",
    "emp_1.apply_raise()\n",
    "print(emp_1.salary)"
   ]
  },
  {
   "cell_type": "code",
   "execution_count": 56,
   "metadata": {},
   "outputs": [
    {
     "name": "stdout",
     "output_type": "stream",
     "text": [
      "{'first': 'Zach', 'last': 'Lavine', 'salary': 1102500, 'email': 'zach.lavine@company.org', 'raise_amount': 1.25}\n",
      "{'first': 'Lonzo', 'last': 'Ball', 'salary': 1102500, 'email': 'lonzo.ball@company.org'}\n"
     ]
    }
   ],
   "source": [
    "print(emp_1.__dict__)\n",
    "print(emp_2.__dict__)"
   ]
  },
  {
   "cell_type": "markdown",
   "metadata": {},
   "source": [
    "##### In-Class Exercise #3 - Add two methods to your car class. One method called `drive` that will take in the number of miles and decrease that car's `gas_level` by 1 unit for every 5 miles. Another method called `fill_up` will take in gallons and increase the `gas_level` by 10 units for every gallon."
   ]
  },
  {
   "cell_type": "code",
   "execution_count": 57,
   "metadata": {},
   "outputs": [
    {
     "name": "stdout",
     "output_type": "stream",
     "text": [
      "{'color': 'Red', 'model': 'CRV', 'gas_level': 100}\n",
      "{'color': 'Blue', 'model': 'Wrangler', 'gas_level': 100}\n",
      "{'color': 'Green', 'model': 'Tundra', 'gas_level': 100}\n"
     ]
    }
   ],
   "source": [
    "class Car:\n",
    "    \n",
    "    def __init__(self, color, model, gas_level = 100):\n",
    "        self.color = color\n",
    "        self.model = model\n",
    "        self.gas_level = gas_level\n",
    "        \n",
    "    def drive(self, miles):\n",
    "        self.miles = miles\n",
    "        self.gas_level = int(self.gas_level - 1/5*self.miles)\n",
    "    \n",
    "    def fill_up(self, gallons):\n",
    "        self.gallons = gallons\n",
    "        self.gas_level = int(self.gas_level + (10 * self.gallons))\n",
    "\n",
    "\n",
    "car1 = Car('Red', 'CRV')\n",
    "car2 = Car('Blue', 'Wrangler')\n",
    "car3 = Car('Green', 'Tundra')\n",
    "\n",
    "print(car1.__dict__)\n",
    "print(car2.__dict__)\n",
    "print(car3.__dict__)\n"
   ]
  },
  {
   "cell_type": "code",
   "execution_count": 58,
   "metadata": {},
   "outputs": [
    {
     "name": "stdout",
     "output_type": "stream",
     "text": [
      "100\n",
      "80\n"
     ]
    }
   ],
   "source": [
    "print(car1.gas_level)\n",
    "\n",
    "car1.drive(100)\n",
    "\n",
    "print(car1.gas_level)\n"
   ]
  },
  {
   "cell_type": "code",
   "execution_count": 59,
   "metadata": {},
   "outputs": [
    {
     "name": "stdout",
     "output_type": "stream",
     "text": [
      "100\n",
      "250\n"
     ]
    }
   ],
   "source": [
    "print(car2.gas_level)\n",
    "\n",
    "car2.fill_up(15)\n",
    "\n",
    "print(car2.gas_level)"
   ]
  },
  {
   "cell_type": "markdown",
   "metadata": {},
   "source": [
    "## Classes as Attributes <br>\n",
    "<p>Classes can also be used as attributes within another class. This is useful in situations where you need to keep variables locally stored, instead of globally stored.</p>"
   ]
  },
  {
   "cell_type": "code",
   "execution_count": 60,
   "metadata": {},
   "outputs": [],
   "source": [
    "class Album:\n",
    "    \n",
    "    def __init__(self, title, artist, release_year, song_list = []):\n",
    "        self.title = title\n",
    "        self.artist = artist\n",
    "        self.release_year = release_year\n",
    "        self.song_list = song_list \n",
    "        \n",
    "    def add_song(self, song):\n",
    "        self.song_list.append(song)\n",
    "        print(f\"{song.name} has been added to the album\")\n",
    "        \n",
    "    def play_album(self):\n",
    "        for song in self.song_list:\n",
    "            print(f'playing {song.name} for the next {song.length}')\n",
    "        \n",
    "class Song:\n",
    "    \n",
    "    def __init__(self, name, length, features = None):\n",
    "        self.name = name\n",
    "        self.length = length\n",
    "        self.features = features \n",
    "        \n",
    "    def play(self):\n",
    "        print(f\"{self.name} is playing right now\")\n",
    "        \n",
    "class Artist:\n",
    "    \n",
    "    def __init__ (self, name, members = []):\n",
    "        self.name = name\n",
    "        self.members = members "
   ]
  },
  {
   "cell_type": "code",
   "execution_count": 61,
   "metadata": {},
   "outputs": [],
   "source": [
    "beatles = Artist('The Beatles', ['John', 'Paul', 'George', 'Ringo'])\n",
    "\n",
    "song1 = Song(\"Come Together\", '4:19')\n",
    "song2 = Song('Something', '3:02')\n",
    "song3 = Song(\"Maxwell's Silver Hammer\", '3:27')\n",
    "\n",
    "abbey_road = Album('Abbey Road', beatles, 1969)"
   ]
  },
  {
   "cell_type": "code",
   "execution_count": 62,
   "metadata": {},
   "outputs": [
    {
     "name": "stdout",
     "output_type": "stream",
     "text": [
      "Come Together has been added to the album\n",
      "Something has been added to the album\n",
      "Maxwell's Silver Hammer has been added to the album\n"
     ]
    }
   ],
   "source": [
    "abbey_road.add_song(song1)\n",
    "abbey_road.add_song(song2)\n",
    "abbey_road.add_song(song3)"
   ]
  },
  {
   "cell_type": "code",
   "execution_count": 63,
   "metadata": {},
   "outputs": [
    {
     "name": "stdout",
     "output_type": "stream",
     "text": [
      "playing Come Together for the next 4:19\n",
      "playing Something for the next 3:02\n",
      "playing Maxwell's Silver Hammer for the next 3:27\n"
     ]
    }
   ],
   "source": [
    "abbey_road.play_album()"
   ]
  },
  {
   "cell_type": "code",
   "execution_count": 5,
   "metadata": {},
   "outputs": [
    {
     "data": {
      "text/plain": [
       "['John', 'Paul', 'George', 'Ringo']"
      ]
     },
     "execution_count": 5,
     "metadata": {},
     "output_type": "execute_result"
    }
   ],
   "source": [
    "abbey_road.artist.members"
   ]
  },
  {
   "cell_type": "markdown",
   "metadata": {},
   "source": [
    "# Exercises"
   ]
  },
  {
   "cell_type": "markdown",
   "metadata": {},
   "source": [
    "### Exercise 1 - Turn the shopping cart program into an object-oriented program"
   ]
  },
  {
   "cell_type": "code",
   "execution_count": null,
   "metadata": {},
   "outputs": [],
   "source": []
  },
  {
   "cell_type": "code",
   "execution_count": 164,
   "metadata": {},
   "outputs": [
    {
     "name": "stdout",
     "output_type": "stream",
     "text": [
      "Welcome to 'My Shopping Cart', Your cart is currently empty\n",
      "What would you like to do? (add/remove/show/quit): add\n",
      "What would you like to add to the cart?: apple\n",
      "What is the price?: 1\n",
      "What is the quantity?: 1\n",
      "What would you like to do? (add/remove/show/quit): add\n",
      "What would you like to add to the cart?: banana\n",
      "What is the price?: .87\n",
      "What is the quantity?: 2\n",
      "What would you like to do? (add/remove/show/quit): add\n",
      "What would you like to add to the cart?: mango\n",
      "What is the price?: 2\n",
      "What is the quantity?: 1\n",
      "What would you like to do? (add/remove/show/quit): remove\n",
      "What would you like to remove? mango\n",
      "Mango has been removed from cart\n",
      "What would you like to do? (add/remove/show/quit): show\n",
      "1 Apple x $1\n",
      "2 Banana x $.87\n",
      "None\n",
      "What would you like to do? (add/remove/show/quit): quit\n",
      "\n",
      " - - - - - Final Receipt - - - - - \n",
      "\n",
      "1 Apple x $1\n",
      "2 Banana x $.87\n",
      "The total is $2.74\n",
      "\n",
      " - - - - - - - - End - - - - - - - \n",
      "  Thank you for shopping with us!\n"
     ]
    }
   ],
   "source": [
    "# Create a class called cart that retains items and has methods to add, remove, and show\n",
    "\n",
    "class Cart():\n",
    "    def __init__(self,shopping_list = []):\n",
    "        self.shopping_list = shopping_list\n",
    "        \n",
    "    def add(self, add_item):\n",
    "        self.shopping_list.append(add_item)\n",
    "        \n",
    "        \n",
    "    def remove(self, remove_item):\n",
    "        for item in self.shopping_list:\n",
    "            if item.name == remove_item.name:\n",
    "                self.shopping_list.remove(item)\n",
    "        \n",
    "        \n",
    "    def show(self):\n",
    "        for item in self.shopping_list:\n",
    "            print (f'{item.quantity} {item.name} x ${item.price}')\n",
    "  \n",
    "                      \n",
    "class Item():\n",
    "    def __init__(self, name, price, quantity):\n",
    "        self.name = name\n",
    "        self.price = price\n",
    "        self.quantity = quantity\n",
    "        \n",
    "\n",
    "def main():\n",
    "    cart1 = Cart()\n",
    "    takeinput = True\n",
    "    count = 0 \n",
    "    print(\"Welcome to 'My Shopping Cart', Your cart is currently empty\")\n",
    "    \n",
    "    while takeinput:\n",
    "        prompt = input(\"What would you like to do? (add/remove/show/quit): \")\n",
    "        while prompt not in ['add', 'remove', 'show', 'quit']:\n",
    "            prompt = input('That is not a valid response. Please type add, remove, show, or quit)').lower()\n",
    "    \n",
    "        if prompt == 'add':\n",
    "            name_prompt = input(\"What would you like to add to the cart?: \").title()\n",
    "#              while name_prompt not in cart1.shopping_list:\n",
    "#                     name_prompt = input(\" Sorry, that item is already in the cart. What would you like to add to the cart?: \").title()\n",
    "            \n",
    "            price_prompt = input(\"What is the price?: \")\n",
    "            try:\n",
    "                float(price_prompt)\n",
    "            except ValueError:\n",
    "                price = input(f\"Please enter a numeric value. What is the price?: \")\n",
    "       \n",
    "            quantity_prompt = input(\"What is the quantity?: \")\n",
    "            try:\n",
    "                float(quantity_prompt)\n",
    "            except ValueError:\n",
    "                quantity_prompt = input(f\"Please enter a numeric value. What is the price?: \")\n",
    "            \n",
    "            add_item = Item(name_prompt, price_prompt, quantity_prompt)\n",
    "            cart1.add(add_item)\n",
    "            \n",
    "        elif prompt == 'remove':\n",
    "            remove_prompt = input(\"What would you like to remove? \").title()\n",
    "            \n",
    "#             while remove_prompt not in cart1.shopping_list:\n",
    "#                 remove_prompt = input(\" Sorry, that item is not in the cart. What would you like to remove from the cart?: \").title()\n",
    "            \n",
    "            remove_item = Item(remove_prompt, price = '', quantity = '')\n",
    "            cart1.remove(remove_item)\n",
    "            print(f\"{remove_prompt} has been removed from cart\")\n",
    "\n",
    "        elif prompt == 'show':\n",
    "            print(cart1.show())\n",
    "\n",
    "        elif prompt == 'quit':\n",
    "            takeinput = False\n",
    "    \n",
    "    for item in cart1.shopping_list:\n",
    "        count += (float(item.quantity) * float(item.price))\n",
    "    answer = str(round(count, 2))\n",
    "    \n",
    "    print(\"\\n - - - - - Final Receipt - - - - - \\n\")\n",
    "    for item in cart1.shopping_list:\n",
    "        count += (float(item.quantity) * float(item.price))\n",
    "        print(f'{item.quantity} {item.name} x ${item.price}')\n",
    "    print(f\"The total is ${answer}\\n\")\n",
    "    print(\" - - - - - - - - End - - - - - - - \\n  Thank you for shopping with us!\")\n",
    "    \n",
    "    \n",
    "\n",
    "main()\n",
    "\n"
   ]
  },
  {
   "cell_type": "code",
   "execution_count": null,
   "metadata": {},
   "outputs": [],
   "source": [
    "add_item = Item(item, price, quantity)\n",
    "self.cart.append(add_item)"
   ]
  },
  {
   "cell_type": "markdown",
   "metadata": {},
   "source": [
    "### Exercise 2 - Write a Python class for an Animal that has a name and energy attributes. The animal class should also have methods for eat, sleep, and play that will take in an integer and increase/decrease the energy of the animal with a formatted print statement"
   ]
  },
  {
   "cell_type": "code",
   "execution_count": null,
   "metadata": {},
   "outputs": [],
   "source": [
    "# Example 1\n",
    "# buddy = Animal('Buddy', 10)\n",
    "# buddy.play(5) -> \"Buddy is playing for 5 minutes. His energy is now 5\"\n",
    "# buddy.sleep(10) -> \"Buddy is sleeping for 5 minutes. His energy is now 15\""
   ]
  },
  {
   "cell_type": "code",
   "execution_count": 165,
   "metadata": {},
   "outputs": [],
   "source": [
    "class Animal():\n",
    "    def __init__(self, name, energy):\n",
    "        self.name = name.title()\n",
    "        self.energy = energy\n",
    "        \n",
    "    def eat(self, integer):\n",
    "        self.integer = integer\n",
    "        self.energy += self.integer\n",
    "        print (f\"{self.name} is eating for {self.integer} minutes. His energy is now {self.energy}\")\n",
    "        \n",
    "    def sleep(self, integer):\n",
    "        self.integer = integer\n",
    "        self.energy += integer \n",
    "        print (f\"{self.name} is sleeping for {self.integer} minutes. His energy is now {self.energy}\")\n",
    "        \n",
    "    def play(self, integer):\n",
    "        self.integer = integer\n",
    "        self.energy -= integer\n",
    "        print (f\"{self.name} is playing for {self.integer} minutes. His energy is now {self.energy}\")\n",
    "\n",
    "\n"
   ]
  },
  {
   "cell_type": "code",
   "execution_count": 166,
   "metadata": {},
   "outputs": [],
   "source": [
    "animal_1 = Animal('Cody the Koala', 10)\n"
   ]
  },
  {
   "cell_type": "code",
   "execution_count": 167,
   "metadata": {},
   "outputs": [
    {
     "name": "stdout",
     "output_type": "stream",
     "text": [
      "{'name': 'Cody The Koala', 'energy': 10}\n",
      "Cody The Koala is eating for 5 minutes. His energy is now 15\n",
      "Cody The Koala is sleeping for 10 minutes. His energy is now 25\n",
      "Cody The Koala is playing for 7 minutes. His energy is now 18\n"
     ]
    }
   ],
   "source": [
    "print(animal_1.__dict__)\n",
    "\n",
    "animal_1.eat(5)\n",
    "\n",
    "animal_1.sleep(10)\n",
    "\n",
    "animal_1.play(7)\n",
    "\n"
   ]
  }
 ],
 "metadata": {
  "kernelspec": {
   "display_name": "Python 3 (ipykernel)",
   "language": "python",
   "name": "python3"
  },
  "language_info": {
   "codemirror_mode": {
    "name": "ipython",
    "version": 3
   },
   "file_extension": ".py",
   "mimetype": "text/x-python",
   "name": "python",
   "nbconvert_exporter": "python",
   "pygments_lexer": "ipython3",
   "version": "3.9.7"
  }
 },
 "nbformat": 4,
 "nbformat_minor": 2
}
